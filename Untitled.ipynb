{
 "cells": [
  {
   "cell_type": "code",
   "execution_count": 26,
   "id": "514bd832",
   "metadata": {},
   "outputs": [
    {
     "name": "stdout",
     "output_type": "stream",
     "text": [
      "The Task 1st \n",
      "  Twinkle, twinkle, little star,\n",
      "                How I wonder what you are!\n",
      "                        Up above the world so high,\n",
      "                        Like a diamond in the sky.\n",
      "              Twinkle, twinkle, little star,\n",
      "                  How I wonder what you are\n",
      "Task 2nd print Python version\n",
      "3.9.7 (default, Sep 16 2021, 16:59:28) [MSC v.1916 64 bit (AMD64)]\n",
      "Task 3rd print current date and time\n",
      "2021-12-30 09:39:58.646060\n",
      "Task 4 find find area by radius of the circle.\n",
      "50.26548245743669\n",
      "Enter first name:wali\n",
      "Enter last name:khan\n",
      "n a h k \n",
      "i l a w \n",
      "enter first number:34\n",
      "enter first number:4\n",
      "38\n"
     ]
    }
   ],
   "source": [
    "# Task 1\n",
    "string = \"\"\" Twinkle, twinkle, little star,\n",
    "                How I wonder what you are!\n",
    "                        Up above the world so high,\n",
    "                        Like a diamond in the sky.\n",
    "              Twinkle, twinkle, little star,\n",
    "                  How I wonder what you are\"\"\"\n",
    "print(\"The Task 1st \\n\",string)\n",
    "\n",
    "\n",
    "\n",
    "# Task 2\n",
    "import sys \n",
    "print(\"Task 2nd print Python version\")\n",
    "print(sys.version)\n",
    "\n",
    "# Task 3\n",
    "import datetime\n",
    "print(\"Task 3rd print current date and time\")\n",
    "print(datetime.datetime.now())\n",
    "\n",
    "# Task 4\n",
    "import math\n",
    "print(\"Task 4 find find area by radius of the circle.\")\n",
    "# radius =float(input(\"Input the radius to find the area of a circle:\"))\n",
    "print(math.pi *radius*radius)\n",
    "\n",
    "# Task 5\n",
    "first = input(\"Enter first name:\")\n",
    "last = input(\"Enter last name:\")\n",
    "first= first[::-1]\n",
    "f_change=\"\"\n",
    "last=last[::-1]\n",
    "change=\"\"\n",
    "for i in last:\n",
    "    change=change+i+' '\n",
    "\n",
    "for i in first:\n",
    "    f_change=f_change+i+' '\n",
    "\n",
    "print(change)\n",
    "print(f_change)\n",
    "\n",
    "\n",
    "# Task 6\n",
    "n1 = int(input(\"enter first number:\"))\n",
    "n2 = int(input(\"enter first number:\"))\n",
    "print(n1+n2)\n"
   ]
  },
  {
   "cell_type": "code",
   "execution_count": null,
   "id": "c8312a11",
   "metadata": {},
   "outputs": [],
   "source": []
  }
 ],
 "metadata": {
  "kernelspec": {
   "display_name": "Python 3 (ipykernel)",
   "language": "python",
   "name": "python3"
  },
  "language_info": {
   "codemirror_mode": {
    "name": "ipython",
    "version": 3
   },
   "file_extension": ".py",
   "mimetype": "text/x-python",
   "name": "python",
   "nbconvert_exporter": "python",
   "pygments_lexer": "ipython3",
   "version": "3.9.7"
  }
 },
 "nbformat": 4,
 "nbformat_minor": 5
}
